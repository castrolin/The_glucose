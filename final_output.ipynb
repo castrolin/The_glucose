{
 "cells": [
  {
   "cell_type": "code",
   "execution_count": 1,
   "metadata": {},
   "outputs": [
    {
     "name": "stderr",
     "output_type": "stream",
     "text": [
      "C:\\ProgramData\\Anaconda3\\lib\\site-packages\\hdfdict\\hdfdict.py:22: H5pyDeprecationWarning: The default file mode will change to 'r' (read-only) in h5py 3.0. To suppress this warning, pass the mode you need to h5py.File(), or set the global default h5.get_config().default_file_mode, or set the environment variable H5PY_DEFAULT_READONLY=1. Available modes are: 'r', 'r+', 'w', 'w-'/'x', 'a'. See the docs for details.\n",
      "  yield h5py.File(hdf, *args, **kwargs)\n"
     ]
    }
   ],
   "source": [
    "import hdfdict as hdf\n",
    "import numpy as np\n",
    "para = hdf.load('parameters.h5') \n",
    "\"\"\"if another code was using this file, it cannot open\n",
    "   the User MUST turn off that code or program to solve the error problem\n",
    "\"\"\"\n",
    "parameters = dict(para) #release the file\n",
    "%run FunctioBase.ipynb"
   ]
  },
  {
   "cell_type": "code",
   "execution_count": 2,
   "metadata": {},
   "outputs": [],
   "source": [
    "parameters = dict(para)"
   ]
  },
  {
   "cell_type": "code",
   "execution_count": 3,
   "metadata": {},
   "outputs": [
    {
     "name": "stdout",
     "output_type": "stream",
     "text": [
      "worksheet 0 :worksheet 1 :the number of data =  335\n",
      "the element of each data is 8\n"
     ]
    }
   ],
   "source": [
    "import xlrd\n",
    "# import the predict data\n",
    "data = xlrd.open_workbook('traindatabase.xlsx') # Please write your file route\n",
    "database= []\n",
    "for n in range(len(data.sheet_names())): #len(data.sheet_names()) is the number of worksheet \n",
    "    print('worksheet {} :'.format(n),end='')\n",
    "    table = data.sheets()[n]\n",
    "    for i in range(table.nrows):\n",
    "        if i != 0: # neglect the first row!!\n",
    "            #print(table.row_values(i))\n",
    "            database.append(table.row_values(i))\n",
    "print('the number of data = ',len(database)) # the data length\n",
    "print('the element of each data is',len(database[0])) # How many input\n",
    "#the data is list so the format is database[row][col]\n",
    "# Split the database to np.array formate(train element,the number of data)\n",
    "trainX = np.zeros((len(database[0])-1,len(database)))\n",
    "trainY = np.zeros((1,len(database)))\n",
    "for i in range(len(database)):\n",
    "    n=0\n",
    "    for j in range(1,len(database[0])):\n",
    "        trainX[n,i]=database[i][j]\n",
    "        n=n+1\n",
    "    trainY[0,i] =database[i][0]\n",
    "    \n",
    "    \n",
    "#data Normalization\n",
    "train_x_r = np.zeros((len(database[0])-1,len(database)))\n",
    "train_y_r = np.zeros((1,len(database)))\n",
    "# Normalize the input (7 element)\n",
    "for i in range(len(database[0])-1):\n",
    "    if i !=0:  # negelect the output\n",
    "        mintrain = min(trainX[i,:])\n",
    "        maxtrain = max(trainX[i,:])\n",
    "        for j in range(len(database)):\n",
    "            train_x_r[i,j] = (trainX[i,j]-mintrain)/(maxtrain-mintrain)\n",
    "# Normalize the output\n",
    "mintrainY = min(trainY[0,:])\n",
    "maxtrainY = max(trainY[0,:])\n",
    "for i in range(len(database)):\n",
    "    train_y_r[0,i] = (trainY[0,i]-mintrainY)/(maxtrainY-mintrainY)\n"
   ]
  },
  {
   "cell_type": "code",
   "execution_count": 4,
   "metadata": {},
   "outputs": [
    {
     "name": "stdout",
     "output_type": "stream",
     "text": [
      "the prdiction answear: [[280.57743948]]\n",
      "the True answear: 200.0\n"
     ]
    }
   ],
   "source": [
    "# testing Part\n",
    "testingIndex = 10\n",
    "input_element = np.zeros((train_x_r.shape[0],1))\n",
    "input_element[:,0] = train_x_r[:,testingIndex]\n",
    "answear = maxtrainY*output(input_element,parameters)\n",
    "print(\"the prdiction answear: \"+str(answear))\n",
    "print(\"the True answear: \"+str(trainY[0,testingIndex]))"
   ]
  },
  {
   "cell_type": "code",
   "execution_count": null,
   "metadata": {},
   "outputs": [],
   "source": []
  },
  {
   "cell_type": "code",
   "execution_count": null,
   "metadata": {},
   "outputs": [],
   "source": []
  }
 ],
 "metadata": {
  "kernelspec": {
   "display_name": "Python 3",
   "language": "python",
   "name": "python3"
  },
  "language_info": {
   "codemirror_mode": {
    "name": "ipython",
    "version": 3
   },
   "file_extension": ".py",
   "mimetype": "text/x-python",
   "name": "python",
   "nbconvert_exporter": "python",
   "pygments_lexer": "ipython3",
   "version": "3.7.7"
  }
 },
 "nbformat": 4,
 "nbformat_minor": 4
}
